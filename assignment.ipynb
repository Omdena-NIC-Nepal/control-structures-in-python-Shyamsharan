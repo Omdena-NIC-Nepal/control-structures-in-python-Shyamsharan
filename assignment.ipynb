{
 "cells": [
  {
   "cell_type": "code",
   "execution_count": 39,
   "metadata": {},
   "outputs": [],
   "source": [
    "#While loop example\n",
    "def while_loop():\n",
    "    total = 0\n",
    "    i = 0\n",
    "    while i <= 16:\n",
    "        total += i\n",
    "        i += 2\n",
    "\n",
    "    print(total)"
   ]
  },
  {
   "cell_type": "code",
   "execution_count": 40,
   "metadata": {},
   "outputs": [],
   "source": [
    "#Use of foor loop with continue and break statement\n",
    "\n",
    "def for_loop_continue():\n",
    "    for number in range(1, 16):\n",
    "        if number % 3 == 0:\n",
    "            continue\n",
    "        print(number)\n",
    "   \n",
    "\n",
    "\n"
   ]
  },
  {
   "cell_type": "code",
   "execution_count": 41,
   "metadata": {},
   "outputs": [],
   "source": [
    "def number_classification():\n",
    "    try:\n",
    "        number = int(input(\"Enter a number: \"))\n",
    "        if number > 0:\n",
    "            print(\"The number is positive\")\n",
    "        elif number < 0:\n",
    "            print(\"The number is negative\")\n",
    "        else:\n",
    "            print(\"The number is zero\")\n",
    "    except ValueError:\n",
    "        print(\"The value entered is invalid\")\n"
   ]
  },
  {
   "cell_type": "code",
   "execution_count": 42,
   "metadata": {},
   "outputs": [
    {
     "name": "stdout",
     "output_type": "stream",
     "text": [
      "1 x 1 = 1\n",
      "1 x 2 = 2\n",
      "1 x 3 = 3\n",
      "1 x 4 = 4\n",
      "1 x 5 = 5\n",
      "2 x 1 = 2\n",
      "2 x 2 = 4\n",
      "2 x 3 = 6\n",
      "2 x 4 = 8\n",
      "2 x 5 = 10\n",
      "3 x 1 = 3\n",
      "3 x 2 = 6\n",
      "3 x 3 = 9\n",
      "3 x 4 = 12\n",
      "3 x 5 = 15\n",
      "4 x 1 = 4\n",
      "4 x 2 = 8\n",
      "4 x 3 = 12\n",
      "4 x 4 = 16\n",
      "4 x 5 = 20\n",
      "5 x 1 = 5\n",
      "5 x 2 = 10\n",
      "5 x 3 = 15\n",
      "5 x 4 = 20\n",
      "5 x 5 = 25\n"
     ]
    }
   ],
   "source": [
    "def multiplication_table():\n",
    "    \n",
    "    for i in range(1, 6):\n",
    "        # Inner loop for columns (1 to 5)\n",
    "        for j in range(1, 6):\n",
    "            # Print multiplication result for (i * j)\n",
    "            print(f\"{i} x {j} = {i * j}\")\n",
    "\n",
    "multiplication_table()"
   ]
  }
 ],
 "metadata": {
  "kernelspec": {
   "display_name": "base",
   "language": "python",
   "name": "python3"
  },
  "language_info": {
   "codemirror_mode": {
    "name": "ipython",
    "version": 3
   },
   "file_extension": ".py",
   "mimetype": "text/x-python",
   "name": "python",
   "nbconvert_exporter": "python",
   "pygments_lexer": "ipython3",
   "version": "3.12.7"
  }
 },
 "nbformat": 4,
 "nbformat_minor": 2
}
